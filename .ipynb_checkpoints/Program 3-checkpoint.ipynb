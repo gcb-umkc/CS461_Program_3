{
 "cells": [
  {
   "cell_type": "code",
   "execution_count": 129,
   "id": "efe61ed5",
   "metadata": {},
   "outputs": [],
   "source": [
    "import pandas as pd"
   ]
  },
  {
   "cell_type": "code",
   "execution_count": 130,
   "id": "c4b0d99c",
   "metadata": {},
   "outputs": [
    {
     "name": "stdout",
     "output_type": "stream",
     "text": [
      "<class 'pandas.core.frame.DataFrame'>\n",
      "RangeIndex: 592803 entries, 0 to 592802\n",
      "Data columns (total 6 columns):\n",
      " #   Column          Non-Null Count   Dtype  \n",
      "---  ------          --------------   -----  \n",
      " 0   favorite_count  592803 non-null  int64  \n",
      " 1   full_text       592803 non-null  object \n",
      " 2   hashtags        592803 non-null  object \n",
      " 3   retweet_count   592803 non-null  int64  \n",
      " 4   year            574091 non-null  float64\n",
      " 5   party_id        592803 non-null  object \n",
      "dtypes: float64(1), int64(2), object(3)\n",
      "memory usage: 27.1+ MB\n"
     ]
    }
   ],
   "source": [
    "csv = pd.read_csv(\"congressional_tweet_training_data.csv\", encoding = 'utf8')\n",
    "csv.info()"
   ]
  },
  {
   "cell_type": "markdown",
   "id": "fd107b1a",
   "metadata": {},
   "source": [
    "Here we are going to process the data so it's a little more friendlier for our purposes"
   ]
  },
  {
   "cell_type": "code",
   "execution_count": 131,
   "id": "cce8756a",
   "metadata": {},
   "outputs": [
    {
     "data": {
      "text/html": [
       "<div>\n",
       "<style scoped>\n",
       "    .dataframe tbody tr th:only-of-type {\n",
       "        vertical-align: middle;\n",
       "    }\n",
       "\n",
       "    .dataframe tbody tr th {\n",
       "        vertical-align: top;\n",
       "    }\n",
       "\n",
       "    .dataframe thead th {\n",
       "        text-align: right;\n",
       "    }\n",
       "</style>\n",
       "<table border=\"1\" class=\"dataframe\">\n",
       "  <thead>\n",
       "    <tr style=\"text-align: right;\">\n",
       "      <th></th>\n",
       "      <th>favorite_count</th>\n",
       "      <th>full_text</th>\n",
       "      <th>hashtags</th>\n",
       "      <th>retweet_count</th>\n",
       "      <th>year</th>\n",
       "      <th>party_id</th>\n",
       "    </tr>\n",
       "  </thead>\n",
       "  <tbody>\n",
       "    <tr>\n",
       "      <th>0</th>\n",
       "      <td>0</td>\n",
       "      <td>b\"RT @KUSINews: One of our longtime viewers wa...</td>\n",
       "      <td>KUSI</td>\n",
       "      <td>10</td>\n",
       "      <td>2017.0</td>\n",
       "      <td>R</td>\n",
       "    </tr>\n",
       "    <tr>\n",
       "      <th>1</th>\n",
       "      <td>258</td>\n",
       "      <td>b\"Today I'm urging the @CDCgov to immediately ...</td>\n",
       "      <td>Coronavirus</td>\n",
       "      <td>111</td>\n",
       "      <td>2020.0</td>\n",
       "      <td>R</td>\n",
       "    </tr>\n",
       "    <tr>\n",
       "      <th>2</th>\n",
       "      <td>0</td>\n",
       "      <td>b'Tomorrow, #MO03 seniors graduate from Calvar...</td>\n",
       "      <td>MO03</td>\n",
       "      <td>2</td>\n",
       "      <td>2014.0</td>\n",
       "      <td>R</td>\n",
       "    </tr>\n",
       "    <tr>\n",
       "      <th>3</th>\n",
       "      <td>9</td>\n",
       "      <td>b'Congrats to #TeamUSA and Canton Native @JGre...</td>\n",
       "      <td>TeamUSA WorldJuniors</td>\n",
       "      <td>3</td>\n",
       "      <td>2017.0</td>\n",
       "      <td>R</td>\n",
       "    </tr>\n",
       "    <tr>\n",
       "      <th>4</th>\n",
       "      <td>3</td>\n",
       "      <td>b'Pleased to support @amergateways at their Ju...</td>\n",
       "      <td>ImmigrantHeritageMonth</td>\n",
       "      <td>3</td>\n",
       "      <td>2019.0</td>\n",
       "      <td>D</td>\n",
       "    </tr>\n",
       "    <tr>\n",
       "      <th>...</th>\n",
       "      <td>...</td>\n",
       "      <td>...</td>\n",
       "      <td>...</td>\n",
       "      <td>...</td>\n",
       "      <td>...</td>\n",
       "      <td>...</td>\n",
       "    </tr>\n",
       "    <tr>\n",
       "      <th>592798</th>\n",
       "      <td>3</td>\n",
       "      <td>b'This time, it focused on careers in #publics...</td>\n",
       "      <td>publicservice publicsafety</td>\n",
       "      <td>0</td>\n",
       "      <td>2017.0</td>\n",
       "      <td>R</td>\n",
       "    </tr>\n",
       "    <tr>\n",
       "      <th>592799</th>\n",
       "      <td>5</td>\n",
       "      <td>b'.#StormyDaniels, #MichaelWolfe, #JamesComey ...</td>\n",
       "      <td>StormyDaniels MichaelWolfe JamesComey</td>\n",
       "      <td>1</td>\n",
       "      <td>2018.0</td>\n",
       "      <td>R</td>\n",
       "    </tr>\n",
       "    <tr>\n",
       "      <th>592800</th>\n",
       "      <td>33</td>\n",
       "      <td>b'@NRDems The American people deserve the trut...</td>\n",
       "      <td>CultureOfCorruption</td>\n",
       "      <td>14</td>\n",
       "      <td>2020.0</td>\n",
       "      <td>D</td>\n",
       "    </tr>\n",
       "    <tr>\n",
       "      <th>592801</th>\n",
       "      <td>4</td>\n",
       "      <td>b'Only 2 weeks left to submit your #app to the...</td>\n",
       "      <td>app copolitics CAC16 HouseOfCode co06</td>\n",
       "      <td>3</td>\n",
       "      <td>2016.0</td>\n",
       "      <td>R</td>\n",
       "    </tr>\n",
       "    <tr>\n",
       "      <th>592802</th>\n",
       "      <td>155</td>\n",
       "      <td>b'The #MuslimBan remains as un-American and of...</td>\n",
       "      <td>MuslimBan</td>\n",
       "      <td>48</td>\n",
       "      <td>2020.0</td>\n",
       "      <td>D</td>\n",
       "    </tr>\n",
       "  </tbody>\n",
       "</table>\n",
       "<p>592803 rows × 6 columns</p>\n",
       "</div>"
      ],
      "text/plain": [
       "        favorite_count                                          full_text  \\\n",
       "0                    0  b\"RT @KUSINews: One of our longtime viewers wa...   \n",
       "1                  258  b\"Today I'm urging the @CDCgov to immediately ...   \n",
       "2                    0  b'Tomorrow, #MO03 seniors graduate from Calvar...   \n",
       "3                    9  b'Congrats to #TeamUSA and Canton Native @JGre...   \n",
       "4                    3  b'Pleased to support @amergateways at their Ju...   \n",
       "...                ...                                                ...   \n",
       "592798               3  b'This time, it focused on careers in #publics...   \n",
       "592799               5  b'.#StormyDaniels, #MichaelWolfe, #JamesComey ...   \n",
       "592800              33  b'@NRDems The American people deserve the trut...   \n",
       "592801               4  b'Only 2 weeks left to submit your #app to the...   \n",
       "592802             155  b'The #MuslimBan remains as un-American and of...   \n",
       "\n",
       "                                     hashtags  retweet_count    year party_id  \n",
       "0                                        KUSI             10  2017.0        R  \n",
       "1                                 Coronavirus            111  2020.0        R  \n",
       "2                                        MO03              2  2014.0        R  \n",
       "3                        TeamUSA WorldJuniors              3  2017.0        R  \n",
       "4                      ImmigrantHeritageMonth              3  2019.0        D  \n",
       "...                                       ...            ...     ...      ...  \n",
       "592798             publicservice publicsafety              0  2017.0        R  \n",
       "592799  StormyDaniels MichaelWolfe JamesComey              1  2018.0        R  \n",
       "592800                    CultureOfCorruption             14  2020.0        D  \n",
       "592801  app copolitics CAC16 HouseOfCode co06              3  2016.0        R  \n",
       "592802                              MuslimBan             48  2020.0        D  \n",
       "\n",
       "[592803 rows x 6 columns]"
      ]
     },
     "execution_count": 131,
     "metadata": {},
     "output_type": "execute_result"
    }
   ],
   "source": [
    "dataset = csv.copy()\n",
    "\n",
    "dataset[\"full_text\"] = dataset[\"full_text\"].astype(\"string\")\n",
    "dataset[\"party_id\"] = dataset[\"party_id\"].astype(\"category\")\n",
    "dataset[\"hashtags\"] = dataset[\"hashtags\"].astype(\"string\")\n",
    "dataset[\"year\"] = dataset[\"year\"].astype(\"string\")\n",
    "\n",
    "dataset"
   ]
  },
  {
   "cell_type": "code",
   "execution_count": 132,
   "id": "9c708c24",
   "metadata": {},
   "outputs": [],
   "source": [
    "text = dataset[\"full_text\"].str.slice(1)\n",
    "length = text.str.len()\n",
    "length = length.to_frame()\n",
    "length.columns = ['length']"
   ]
  },
  {
   "cell_type": "code",
   "execution_count": 133,
   "id": "ee65b2a1",
   "metadata": {},
   "outputs": [],
   "source": [
    "mentions = dataset[\"full_text\"].str.findall('@(\\w+)')\n",
    "mentions = mentions.apply(lambda list: len(list))\n",
    "mentions = mentions.to_frame()\n",
    "mentions.columns = [\"mentions\"]"
   ]
  },
  {
   "cell_type": "code",
   "execution_count": 134,
   "id": "be96e0be",
   "metadata": {},
   "outputs": [],
   "source": [
    "retweets = dataset[\"retweet_count\"]"
   ]
  },
  {
   "cell_type": "code",
   "execution_count": 135,
   "id": "1f040bca",
   "metadata": {},
   "outputs": [],
   "source": [
    "years = dataset[\"year\"].str.extract(r'(\\d{4})')\n",
    "years = years.astype(\"Int64\")\n",
    "years.columns = [\"year\"]"
   ]
  },
  {
   "cell_type": "code",
   "execution_count": 136,
   "id": "504917f1",
   "metadata": {},
   "outputs": [],
   "source": [
    "hashtags = dataset[\"hashtags\"].str.split(' ')\n",
    "hashtags = hashtags.apply(lambda list: len(list))\n",
    "hashtags = hashtags.to_frame()\n",
    "hashtags.columns = [\"hashtags\"]"
   ]
  },
  {
   "cell_type": "code",
   "execution_count": 137,
   "id": "f2f80ae1",
   "metadata": {},
   "outputs": [
    {
     "ename": "SyntaxError",
     "evalue": "invalid syntax (3607131975.py, line 3)",
     "output_type": "error",
     "traceback": [
      "\u001b[1;36m  Input \u001b[1;32mIn [137]\u001b[1;36m\u001b[0m\n\u001b[1;33m    = party_id.astype(\"int\")\u001b[0m\n\u001b[1;37m    ^\u001b[0m\n\u001b[1;31mSyntaxError\u001b[0m\u001b[1;31m:\u001b[0m invalid syntax\n"
     ]
    }
   ],
   "source": [
    "party_id = dataset[\"party_id\"]\n",
    "party_id = party_id.apply(lambda String: \"0\" if (String==\"D\") else \"1\")\n",
    "= party_id.astype(\"int\")"
   ]
  },
  {
   "cell_type": "code",
   "execution_count": null,
   "id": "df88231c",
   "metadata": {},
   "outputs": [],
   "source": [
    "input = pd.concat([length, mentions, retweets, years, hashtags], axis=1)\n",
    "labels = party_id \n",
    "input = input.fillna(input.median())\n",
    "input.info()"
   ]
  },
  {
   "cell_type": "code",
   "execution_count": null,
   "id": "6a546d81",
   "metadata": {},
   "outputs": [],
   "source": [
    "import tensorflow as tf\n",
    "import tensorflow.keras.layers as l"
   ]
  },
  {
   "cell_type": "code",
   "execution_count": null,
   "id": "18c070b1",
   "metadata": {},
   "outputs": [],
   "source": [
    "n = 10000\n",
    "trainset = input.iloc[0:n]\n",
    "trainlabels = labels.iloc[0:n]\n",
    "\n",
    "testset = input.iloc[n:2*n]\n",
    "testlabels = labels.iloc[n:2*n]"
   ]
  },
  {
   "cell_type": "code",
   "execution_count": null,
   "id": "1ed79ab9",
   "metadata": {},
   "outputs": [],
   "source": [
    "normalizer = tf.keras.layers.Normalization(axis=-1)\n",
    "trainset = tf.convert_to_tensor(trainset, dtype=tf.int64)\n",
    "normalizer.adapt(trainset)\n",
    "normalizer(trainset)\n",
    "\n",
    "testlabels = tf.cast(testlabels, tf.bool)\n",
    "\n",
    "testset = tf.convert_to_tensor(testset, dtype=tf.int64)\n",
    "testlabels = tf.cast(testlabels, tf.bool)"
   ]
  },
  {
   "cell_type": "code",
   "execution_count": null,
   "id": "312e78a7",
   "metadata": {},
   "outputs": [],
   "source": [
    "model = keras.Sequential()\n",
    "relu = tf.nn.relu\n",
    "softmax = tf.nn.softmax\n",
    "model.add(normalizer)\n",
    "model.add(l.Dense(10, activation=relu, input_shape=(5,)))\n",
    "model.add(l.Dense(10, activation=relu))\n",
    "model.add(l.Dense(1))\n",
    "\n",
    "model.compile(optimizer='adam',\n",
    "                loss=tf.keras.losses.BinaryCrossentropy(from_logits=True),\n",
    "                metrics=['accuracy'])"
   ]
  },
  {
   "cell_type": "code",
   "execution_count": null,
   "id": "66b2329b",
   "metadata": {},
   "outputs": [],
   "source": [
    "model.fit(trainset, trainlabels, epochs=15, batch_size=20)"
   ]
  },
  {
   "cell_type": "code",
   "execution_count": null,
   "id": "f7b62747",
   "metadata": {},
   "outputs": [],
   "source": [
    "test_accuracy = tf.keras.metrics.Accuracy()\n",
    "\n",
    "for i in range(n):\n",
    "  x = testset[i]\n",
    "  y = testlabels[i]\n",
    "  # training=False is needed only if there are layers with different\n",
    "  # behavior during training versus inference (e.g. Dropout).\n",
    "  logits = model(x, training=False)\n",
    "  prediction = tf.math.argmax(logits, axis=1, output_type=tf.int64)\n",
    "  test_accuracy(prediction, y)\n",
    "\n",
    "print(\"Test set accuracy: {:.3%}\".format(test_accuracy.result()))"
   ]
  },
  {
   "cell_type": "code",
   "execution_count": null,
   "id": "fc1375c1",
   "metadata": {},
   "outputs": [],
   "source": []
  }
 ],
 "metadata": {
  "kernelspec": {
   "display_name": "Python 3 (ipykernel)",
   "language": "python",
   "name": "python3"
  },
  "language_info": {
   "codemirror_mode": {
    "name": "ipython",
    "version": 3
   },
   "file_extension": ".py",
   "mimetype": "text/x-python",
   "name": "python",
   "nbconvert_exporter": "python",
   "pygments_lexer": "ipython3",
   "version": "3.10.4"
  }
 },
 "nbformat": 4,
 "nbformat_minor": 5
}
